{
  "cells": [
    {
      "cell_type": "markdown",
      "metadata": {},
      "source": [
        "# Automate model recommendation "
      ]
    },
    {
      "cell_type": "markdown",
      "metadata": {},
      "source": [
        "This example notebook uses the `modlee` package to train a recommended model.\n",
        "We will perform image classification on CIFAR10 from `torchvision`."
      ]
    },
    {
      "cell_type": "markdown",
      "metadata": {},
      "source": [
        "First, import `torch`- and `modlee`-related packages."
      ]
    },
    {
      "cell_type": "code",
      "execution_count": 1,
      "metadata": {},
      "outputs": [
        {
          "name": "stderr",
          "output_type": "stream",
          "text": [
            "/home/ubuntu/.conda/envs/modlee3.12/lib/python3.12/site-packages/tqdm/auto.py:21: TqdmWarning: IProgress not found. Please update jupyter and ipywidgets. See https://ipywidgets.readthedocs.io/en/stable/user_install.html\n",
            "  from .autonotebook import tqdm as notebook_tqdm\n"
          ]
        }
      ],
      "source": [
        "import os\n",
        "import lightning.pytorch as pl\n",
        "# os.environ['MODLEE_API_KEY'] = \"replace-with-your-api-key\"\n",
        "import torch, torchvision\n",
        "import torchvision.transforms as transforms\n",
        "\n",
        "import modlee\n",
        "modlee.init(api_key=os.environ.get('MODLEE_API_KEY'))"
      ]
    },
    {
      "cell_type": "markdown",
      "metadata": {},
      "source": [
        "Next, we create a dataloader from CIFAR10."
      ]
    },
    {
      "cell_type": "code",
      "execution_count": 2,
      "metadata": {
        "id": "gdA4rn4JyQc0"
      },
      "outputs": [
        {
          "name": "stdout",
          "output_type": "stream",
          "text": [
            "Files already downloaded and verified\n",
            "Files already downloaded and verified\n"
          ]
        }
      ],
      "source": [
        "transforms = transforms.Compose([transforms.ToTensor(),transforms.Normalize((0.5, 0.5, 0.5), (0.5, 0.5, 0.5))])\n",
        "\n",
        "train_dataset = torchvision.datasets.CIFAR10(\n",
        "    root='./data', train=True, download=True, transform=transforms)\n",
        "val_dataset = torchvision.datasets.CIFAR10(\n",
        "    root='./data', train=False, download=True, transform=transforms)\n",
        "\n",
        "train_dataloader = torch.utils.data.DataLoader(\n",
        "    train_dataset,\n",
        "    batch_size=16,\n",
        "   )\n",
        "val_dataloader = torch.utils.data.DataLoader(\n",
        "    val_dataset,\n",
        "    batch_size=16\n",
        ")"
      ]
    },
    {
      "cell_type": "markdown",
      "metadata": {},
      "source": [
        "Create a `modlee` recommender object and fit to the dataset.\n",
        "This process will calculate the dataset metafeatures to send to the server.\n",
        "The server will return a recommended model for the dataset assigned to `recommender.model`."
      ]
    },
    {
      "cell_type": "code",
      "execution_count": 3,
      "metadata": {},
      "outputs": [
        {
          "name": "stderr",
          "output_type": "stream",
          "text": [
            "INFO:Analyzing dataset based on data metafeatures...\n"
          ]
        },
        {
          "name": "stdout",
          "output_type": "stream",
          "text": [
            "[Modlee] Finished analyzing.\n"
          ]
        },
        {
          "name": "stderr",
          "output_type": "stream",
          "text": [
            "INFO:No model recommendation, call .analyze on a dataloader first.\n"
          ]
        },
        {
          "name": "stdout",
          "output_type": "stream",
          "text": [
            "Could not retrieve model, could not access server or data features may be malformed.\n",
            "\n",
            "Recommended model: \n",
            "None\n"
          ]
        }
      ],
      "source": [
        "recommender = modlee.recommender.from_modality_task(\n",
        "    modality='image',\n",
        "    task='classification',\n",
        "    )\n",
        "recommender.fit(train_dataloader)\n",
        "modlee_model = recommender.model \n",
        "print(f\"\\nRecommended model: \\n{modlee_model}\")"
      ]
    },
    {
      "cell_type": "markdown",
      "metadata": {},
      "source": [
        "```\n",
        "INFO:Analyzing dataset based on data metafeatures...\n",
        "INFO:Finished analyzing dataset.\n",
        "INFO:The model is available at the recommender object's `model` attribute.\n",
        "\n",
        "Recommended model: \n",
        "RecommendedModel(\n",
        "  (model): GraphModule(\n",
        "    (Conv): Conv2d(3, 3, kernel_size=(1, 1), stride=(1, 1))\n",
        "    (Conv_1): Conv2d(3, 64, kernel_size=(7, 7), stride=(2, 2), padding=(3, 3))\n",
        "    (Relu): ReLU()\n",
        "    (MaxPool): MaxPool2d(kernel_size=[3, 3], stride=[2, 2], padding=[1, 1], dilation=[1, 1], ceil_mode=False)\n",
        "    (Conv_2): Conv2d(64, 64, kernel_size=(3, 3), stride=(1, 1), padding=(1, 1))\n",
        "    (Relu_1): ReLU()\n",
        "    (Conv_3): Conv2d(64, 64, kernel_size=(3, 3), stride=(1, 1), padding=(1, 1))\n",
        "    (Add): OnnxBinaryMathOperation()\n",
        "    (Relu_2): ReLU()\n",
        "    (Conv_4): Conv2d(64, 64, kernel_size=(3, 3), stride=(1, 1), padding=(1, 1))\n",
        "    (Relu_3): ReLU()\n",
        "    (Conv_5): Conv2d(64, 64, kernel_size=(3, 3), stride=(1, 1), padding=(1, 1))\n",
        "    ...\n",
        "```"
      ]
    },
    {
      "cell_type": "markdown",
      "metadata": {},
      "source": [
        "We can train the model as we would a basic `ModleeModel`, with automatic documentation of metafeatures."
      ]
    },
    {
      "cell_type": "code",
      "execution_count": 4,
      "metadata": {},
      "outputs": [
        {
          "ename": "AttributeError",
          "evalue": "module 'modlee' has no attribute 'Trainer'",
          "output_type": "error",
          "traceback": [
            "\u001b[0;31m---------------------------------------------------------------------------\u001b[0m",
            "\u001b[0;31mAttributeError\u001b[0m                            Traceback (most recent call last)",
            "Cell \u001b[0;32mIn[4], line 2\u001b[0m\n\u001b[1;32m      1\u001b[0m \u001b[39mwith\u001b[39;00m modlee\u001b[39m.\u001b[39mstart_run() \u001b[39mas\u001b[39;00m run:\n\u001b[0;32m----> 2\u001b[0m     trainer \u001b[39m=\u001b[39m modlee\u001b[39m.\u001b[39;49mTrainer(max_epochs\u001b[39m=\u001b[39m\u001b[39m1\u001b[39m)\n\u001b[1;32m      3\u001b[0m     trainer\u001b[39m.\u001b[39mfit(\n\u001b[1;32m      4\u001b[0m         model\u001b[39m=\u001b[39mmodlee_model,\n\u001b[1;32m      5\u001b[0m         train_dataloaders\u001b[39m=\u001b[39mtrain_dataloader\n\u001b[1;32m      6\u001b[0m     )\n",
            "\u001b[0;31mAttributeError\u001b[0m: module 'modlee' has no attribute 'Trainer'"
          ]
        }
      ],
      "source": [
        "with modlee.start_run() as run:\n",
        "    trainer = pl.Trainer(max_epochs=1)\n",
        "    trainer.fit(\n",
        "        model=modlee_model,\n",
        "        train_dataloaders=train_dataloader\n",
        "    )"
      ]
    },
    {
      "cell_type": "markdown",
      "metadata": {},
      "source": [
        "```\n",
        "  | Name  | Type        | Params\n",
        "--------------------------------------\n",
        "0 | model | GraphModule | 11.7 M\n",
        "--------------------------------------\n",
        "11.7 M    Trainable params\n",
        "0         Non-trainable params\n",
        "11.7 M    Total params\n",
        "46.779    Total estimated model params size (MB)\n",
        "Epoch 0: 100%|██████████| 3125/3125 [01:14<00:00, 41.86it/s, v_num=0]\n",
        "```"
      ]
    },
    {
      "cell_type": "markdown",
      "metadata": {},
      "source": [
        "Finally, we can view the saved assets from training."
      ]
    },
    {
      "cell_type": "code",
      "execution_count": null,
      "metadata": {},
      "outputs": [],
      "source": [
        "last_run_path = modlee.last_run_path()\n",
        "print(f\"Run path: {last_run_path}\")\n",
        "artifacts_path = os.path.join(last_run_path, 'artifacts')\n",
        "artifacts = os.listdir(artifacts_path)\n",
        "print(f\"Saved artifacts: {artifacts}\")"
      ]
    },
    {
      "cell_type": "markdown",
      "metadata": {},
      "source": [
        "```\n",
        "Run path: /home/ubuntu/projects/modlee_pypi/examples/mlruns/0/7a47086681324d0e924f9076a1262de9/artifacts/model_graph.py\n",
        "Saved artifacts: ['transforms.txt', 'model_graph.py', 'model_graph.txt', 'model_size', 'model', 'cached_vars', 'stats_rep', 'snapshot_1.npy', 'lightning_logs', 'snapshot_0.npy', 'model.py', 'loss_calls.txt', 'model_summary.txt']\n",
        "```"
      ]
    }
  ],
  "metadata": {
    "accelerator": "GPU",
    "colab": {
      "gpuType": "T4",
      "provenance": []
    },
    "kernelspec": {
      "display_name": "Python 3",
      "name": "python3"
    },
    "language_info": {
      "codemirror_mode": {
        "name": "ipython",
        "version": 3
      },
      "file_extension": ".py",
      "mimetype": "text/x-python",
      "name": "python",
      "nbconvert_exporter": "python",
      "pygments_lexer": "ipython3",
      "version": "3.12.2"
    }
  },
  "nbformat": 4,
  "nbformat_minor": 0
}
