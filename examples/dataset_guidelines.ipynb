{
 "cells": [
  {
   "cell_type": "markdown",
   "metadata": {},
   "source": [
    "# Dataset guidelines\n",
    "\n",
    "Here we show pseudo code to illustrate building a pytorch data loader from a list of data elements in a format that is compatible with **Modlee Auto Experiment Documentation**\n",
    "\n",
    "## TLDR\n",
    "\n",
    "- Define your dataset in an unnested format: [[x1, x2, x3, ..., y], ...]\n",
    "- Create a dataloader which is used to train a ModleeModel with a Modlee Trainer\n",
    "\n",
    "## Define example custom dataset objects"
   ]
  },
  {
   "cell_type": "markdown",
   "metadata": {},
   "source": [
    "```python\n",
    "import torch\n",
    "import numpy as np\n",
    "from torch.utils.data import Dataset, DataLoader\n",
    "\n",
    "class CustomDataset(Dataset):\n",
    "    def __init__(self, data):\n",
    "        self.data = data\n",
    "        \n",
    "    def __len__(self):\n",
    "        return len(self.data)\n",
    "    \n",
    "    def __getitem__(self, idx):\n",
    "        feature1 = torch.tensor(self.data[idx][0], dtype=torch.float32)\n",
    "        feature2 = torch.tensor(self.data[idx][1], dtype=torch.float32)\n",
    "        feature3 = torch.tensor(self.data[idx][2], dtype=torch.float32)\n",
    "        \n",
    "        features = [feature1,feature2,feature3]  # This is a simplification\n",
    "        \n",
    "        target = torch.tensor(self.data[idx][-1], dtype=torch.float32).squeeze()  # Ensure target is a scalar or 1D\n",
    "        \n",
    "        return features, target\n",
    "\n",
    "def example_text():\n",
    "    return np.random.rand(10)  # 1D array of 10 random numbers\n",
    "def example_image():\n",
    "    return np.random.rand(5, 3)  # 2D array of shape (5, 3) with random numbers\n",
    "def example_video():\n",
    "    return np.random.rand(5, 3, 2)  # 3D array of shape (5, 3, 2) with random numbers\n",
    "def example_target():\n",
    "    return np.random.rand(1)  # scalar value\n",
    "\n",
    "```"
   ]
  },
  {
   "cell_type": "markdown",
   "metadata": {},
   "source": [
    "## Create dataset and dataloader\n",
    "\n",
    "### MODLEE_GUIDELINE\n",
    "\n",
    "Define your raw data so that each element is a list of data objects (any combination of images,audio,text,video,etc ...) with the final element of the list being your target which must match the output shape of your neural network\n",
    "    - ex: [[x1, x2, x3, ..., y], ...]\n",
    "\n",
    "Avoid nested data structures like the following\n",
    "    - [[[x1, x2], x3, ..., y], ...]\n",
    "\n",
    "### Why?\n",
    "\n",
    "Modlee extracts key meta features from your dataset so your experiment can be used in aggregate analysis alongside your collaborators data, to improve Modlee's model recommendation technology for your connected environment. The above stated list data structure allows us to easily extract the information we need. Check out exactly how we do this on our public [Github Repo](https://github.com/modlee-ai/modlee).\n"
   ]
  },
  {
   "cell_type": "markdown",
   "metadata": {},
   "source": [
    "```python\n",
    "data = [[example_text(),example_image(),example_video(),example_target()] for _ in range(4)]\n",
    "\n",
    "dataset = CustomDataset(data)\n",
    "```"
   ]
  },
  {
   "cell_type": "markdown",
   "metadata": {},
   "source": [
    "## Define a PyTorch DataLoader\n",
    "\n",
    "### MODLEE_GUIDELINE\n",
    "\n",
    "Pass your dataset to a PyTorch DataLoader, so that Modlee can automatically parse it for meta features, allowing you to share it in a meaningful way with your colleagues.\n"
   ]
  },
  {
   "cell_type": "markdown",
   "metadata": {},
   "source": [
    "```python\n",
    "dataloader = DataLoader(dataset, batch_size=2, shuffle=True)\n",
    "\n",
    "# Iterate through dataloader\n",
    "for i,batch in enumerate(dataloader):\n",
    "    print(f\"- batch_{i}\")\n",
    "    features, target = batch\n",
    "    for j,feature in enumerate(features):\n",
    "        print(f\"feature_{j}.shape = \", feature.shape)\n",
    "    print(\"target.shape = \", target.shape)\n",
    "\n",
    "```"
   ]
  },
  {
   "cell_type": "markdown",
   "metadata": {},
   "source": [
    "## Modality & task compatibility\n",
    "\n",
    "We're working on making modlee compatible with any data modality and machine learning task which drove us to create the above stated MODLEE_GUIDELINES.\n",
    "\n",
    "Check out our [Github Repo](https://github.com/modlee-ai/modlee) to see which have been tested for auto documentation to date, and if you don't see one you need, test it out yourself and contribute!\n",
    "\n",
    "Reach out on our [Discord](https://discord.com/invite/m8YDbWDvrF) to let us know what modality & tasks you want to use next, or give us feedback on these guidelines."
   ]
  }
 ],
 "metadata": {
  "kernelspec": {
   "display_name": "Python 3",
   "language": "python",
   "name": "python3"
  },
  "language_info": {
   "codemirror_mode": {
    "name": "ipython",
    "version": 3
   },
   "file_extension": ".py",
   "mimetype": "text/x-python",
   "name": "python",
   "nbconvert_exporter": "python",
   "pygments_lexer": "ipython3",
   "version": "3.9.6"
  }
 },
 "nbformat": 4,
 "nbformat_minor": 2
}
