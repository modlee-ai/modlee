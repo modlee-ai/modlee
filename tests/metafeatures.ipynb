{
 "cells": [
  {
   "cell_type": "code",
   "execution_count": 2,
   "metadata": {},
   "outputs": [
    {
     "name": "stderr",
     "output_type": "stream",
     "text": [
      "/home/ubuntu/.conda/envs/modlee3.10/lib/python3.10/site-packages/tqdm/auto.py:21: TqdmWarning: IProgress not found. Please update jupyter and ipywidgets. See https://ipywidgets.readthedocs.io/en/stable/user_install.html\n",
      "  from .autonotebook import tqdm as notebook_tqdm\n"
     ]
    }
   ],
   "source": [
    "import pytest\n",
    "import re, os\n",
    "\n",
    "import torch\n",
    "from torch.utils.data import DataLoader\n",
    "import torchvision\n",
    "\n",
    "import modlee\n",
    "from modlee import data_metafeatures as dmf\n",
    "from modlee.utils import text_loaders, image_loaders\n",
    "\n",
    "import pandas as pd\n",
    "import spacy\n",
    "\n",
    "DATA_ROOT = os.path.expanduser(\"~/efs/.data\")\n",
    "IMAGE_DATALOADER = modlee.utils.get_imagenette_dataloader()\n",
    "# TEXT_DATALOADER = modlee.utils.get_wnli_dataloader() \n",
    "\n",
    "\n",
    "TEXT_LOADERS = {loader_fn:getattr(text_loaders, loader_fn) for loader_fn in dir(text_loaders) if re.match('get_(.*)_dataloader', loader_fn)}\n",
    "IMAGE_LOADERS = [getattr(image_loaders, loader_fn) for loader_fn in dir(image_loaders) if re.match('get_(.*)_dataloader', loader_fn)]\n"
   ]
  },
  {
   "cell_type": "code",
   "execution_count": 2,
   "metadata": {},
   "outputs": [],
   "source": [
    "mf_global = None\n",
    "def get_df_from_loaders(loaders, modality, n_samples=1):\n",
    "    global mf_global\n",
    "    if isinstance(loaders, dict):\n",
    "        loaders = list(loaders.values())\n",
    "    df = pd.DataFrame()\n",
    "    print(loaders)\n",
    "    features = []\n",
    "    MFClass = getattr(dmf, f\"{modality.capitalize()}DataMetafeatures\")\n",
    "    for loader_fn in loaders:\n",
    "        for _ in range(n_samples):\n",
    "            metafeatures = MFClass(\n",
    "                loader_fn(root=DATA_ROOT), testing=True\n",
    "            )\n",
    "            if hasattr(loader_fn, 'args'):\n",
    "                dataset_name = loader_fn.args[0]\n",
    "            else:\n",
    "                dataset_name = loader_fn.__name__\n",
    "            mf_global = metafeatures\n",
    "            features.append({\n",
    "                    'dataset_name':dataset_name,\n",
    "                    **metafeatures.embedding,\n",
    "                    **metafeatures.mfe,\n",
    "                    **metafeatures.properties,\n",
    "            })\n",
    "            pd.DataFrame(features[-1]).to_csv(\n",
    "                f'./{modality}_features_cache.csv',\n",
    "                mode='a')\n",
    "    df = pd.DataFrame(features)\n",
    "    return df\n",
    "\n"
   ]
  },
  {
   "cell_type": "code",
   "execution_count": 6,
   "metadata": {},
   "outputs": [
    {
     "name": "stdout",
     "output_type": "stream",
     "text": [
      "[functools.partial(<staticmethod(<function text_loaders._get_text_dataloader at 0x7f168ef17520>)>, 'CoLA', 527), <function text_loaders.get_mnli_dataloader at 0x7f168ef175b0>, functools.partial(<staticmethod(<function text_loaders._get_text_dataloader at 0x7f168ef17520>)>, 'QNLI', 5463), functools.partial(<staticmethod(<function text_loaders._get_text_dataloader at 0x7f168ef17520>)>, 'RTE', 277), functools.partial(<staticmethod(<function text_loaders._get_text_dataloader at 0x7f168ef17520>)>, 'SST2', 872), functools.partial(<staticmethod(<function text_loaders._get_text_dataloader at 0x7f168ef17520>)>, 'STSB', 1500), functools.partial(<staticmethod(<function text_loaders._get_text_dataloader at 0x7f168ef17520>)>, 'WNLI', 71)]\n"
     ]
    }
   ],
   "source": [
    "text_df = get_df_from_loaders(TEXT_LOADERS, 'text')"
   ]
  },
  {
   "cell_type": "code",
   "execution_count": null,
   "metadata": {},
   "outputs": [],
   "source": [
    "image_df = get_df_from_loaders(IMAGE_LOADERS[17:], 'image', n_samples=4)"
   ]
  },
  {
   "cell_type": "code",
   "execution_count": 42,
   "metadata": {},
   "outputs": [
    {
     "data": {
      "text/html": [
       "<div>\n",
       "<style scoped>\n",
       "    .dataframe tbody tr th:only-of-type {\n",
       "        vertical-align: middle;\n",
       "    }\n",
       "\n",
       "    .dataframe tbody tr th {\n",
       "        vertical-align: top;\n",
       "    }\n",
       "\n",
       "    .dataframe thead th {\n",
       "        text-align: right;\n",
       "    }\n",
       "</style>\n",
       "<table border=\"1\" class=\"dataframe\">\n",
       "  <thead>\n",
       "    <tr style=\"text-align: right;\">\n",
       "      <th></th>\n",
       "      <th>dataset_name</th>\n",
       "      <th>embd_0_mean_0</th>\n",
       "      <th>embd_0_mean_1</th>\n",
       "      <th>embd_0_mean_2</th>\n",
       "      <th>embd_0_mean_3</th>\n",
       "      <th>embd_0_mean_4</th>\n",
       "      <th>embd_0_mean_5</th>\n",
       "      <th>embd_0_mean_6</th>\n",
       "      <th>embd_0_mean_7</th>\n",
       "      <th>embd_0_mean_8</th>\n",
       "      <th>...</th>\n",
       "      <th>sparsity.sd_1</th>\n",
       "      <th>t_mean.mean_1</th>\n",
       "      <th>t_mean.sd_1</th>\n",
       "      <th>var.mean_1</th>\n",
       "      <th>var.sd_1</th>\n",
       "      <th>dataset_size</th>\n",
       "      <th>elem_0_shape</th>\n",
       "      <th>elem_0_dims</th>\n",
       "      <th>elem_1_shape</th>\n",
       "      <th>elem_1_dims</th>\n",
       "    </tr>\n",
       "  </thead>\n",
       "  <tbody>\n",
       "    <tr>\n",
       "      <th>0</th>\n",
       "      <td>CIFAR10</td>\n",
       "      <td>-0.016777</td>\n",
       "      <td>0.681486</td>\n",
       "      <td>-1.257155</td>\n",
       "      <td>-0.762495</td>\n",
       "      <td>-1.302225</td>\n",
       "      <td>1.646449</td>\n",
       "      <td>-1.796577</td>\n",
       "      <td>-2.000172</td>\n",
       "      <td>-1.442675</td>\n",
       "      <td>...</td>\n",
       "      <td>NaN</td>\n",
       "      <td>4.783333</td>\n",
       "      <td>NaN</td>\n",
       "      <td>8.616162</td>\n",
       "      <td>NaN</td>\n",
       "      <td>10000</td>\n",
       "      <td>[100, 3, 300, 300]</td>\n",
       "      <td>4</td>\n",
       "      <td>[100]</td>\n",
       "      <td>1</td>\n",
       "    </tr>\n",
       "    <tr>\n",
       "      <th>1</th>\n",
       "      <td>DTD</td>\n",
       "      <td>-1.058883</td>\n",
       "      <td>0.862001</td>\n",
       "      <td>0.060573</td>\n",
       "      <td>0.420286</td>\n",
       "      <td>0.459545</td>\n",
       "      <td>0.266008</td>\n",
       "      <td>0.723380</td>\n",
       "      <td>-0.358250</td>\n",
       "      <td>-0.699077</td>\n",
       "      <td>...</td>\n",
       "      <td>NaN</td>\n",
       "      <td>21.400000</td>\n",
       "      <td>NaN</td>\n",
       "      <td>170.142525</td>\n",
       "      <td>NaN</td>\n",
       "      <td>1888</td>\n",
       "      <td>[100, 3, 300, 300]</td>\n",
       "      <td>4</td>\n",
       "      <td>[100]</td>\n",
       "      <td>1</td>\n",
       "    </tr>\n",
       "  </tbody>\n",
       "</table>\n",
       "<p>2 rows × 310 columns</p>\n",
       "</div>"
      ],
      "text/plain": [
       "  dataset_name  embd_0_mean_0  embd_0_mean_1  embd_0_mean_2  embd_0_mean_3  \\\n",
       "0      CIFAR10      -0.016777       0.681486      -1.257155      -0.762495   \n",
       "1          DTD      -1.058883       0.862001       0.060573       0.420286   \n",
       "\n",
       "   embd_0_mean_4  embd_0_mean_5  embd_0_mean_6  embd_0_mean_7  embd_0_mean_8  \\\n",
       "0      -1.302225       1.646449      -1.796577      -2.000172      -1.442675   \n",
       "1       0.459545       0.266008       0.723380      -0.358250      -0.699077   \n",
       "\n",
       "   ...  sparsity.sd_1  t_mean.mean_1  t_mean.sd_1  var.mean_1  var.sd_1  \\\n",
       "0  ...            NaN       4.783333          NaN    8.616162       NaN   \n",
       "1  ...            NaN      21.400000          NaN  170.142525       NaN   \n",
       "\n",
       "   dataset_size        elem_0_shape  elem_0_dims  elem_1_shape  elem_1_dims  \n",
       "0         10000  [100, 3, 300, 300]            4         [100]            1  \n",
       "1          1888  [100, 3, 300, 300]            4         [100]            1  \n",
       "\n",
       "[2 rows x 310 columns]"
      ]
     },
     "execution_count": 42,
     "metadata": {},
     "output_type": "execute_result"
    }
   ],
   "source": [
    "image_df"
   ]
  },
  {
   "cell_type": "code",
   "execution_count": 3,
   "metadata": {},
   "outputs": [],
   "source": [
    "# cached_df = pd.read_csv('./image_features_cache_0.csv')\n",
    "\n",
    "class DFTransforms:\n",
    "    @staticmethod\n",
    "    def list_cols2item(df):\n",
    "        object_columns = df.select_dtypes(include=['object']).columns\n",
    "        df[object_columns] = df[object_columns].apply(\n",
    "            lambda x : x[0]\n",
    "        )\n",
    "        return df\n",
    "    \n",
    "    @staticmethod\n",
    "    def drop_nonnum(df):\n",
    "        return df.select_dtypes(include=['float','int'])\n",
    "        \n",
    "    @staticmethod\n",
    "    def fillna(df, val=0):\n",
    "        return df.fillna(val)\n",
    "    \n",
    "    @staticmethod\n",
    "    def dropna(df):\n",
    "        return df.dropna(axis=1, how='any')\n",
    "\n",
    "    @staticmethod\n",
    "    def normalize(df):\n",
    "        def min_max_normalize(column):\n",
    "            return (column - column.min()) / (column.max() - column.min())\n",
    "        return df.apply(min_max_normalize)\n",
    "\n",
    "    @staticmethod\n",
    "    def compose(transforms):\n",
    "        def apply_transforms(df):\n",
    "            for transform in transforms:\n",
    "                df = transform(df)\n",
    "            return df\n",
    "        return apply_transforms\n",
    "df_transforms = DFTransforms.compose([\n",
    "    DFTransforms.list_cols2item,\n",
    "    DFTransforms.drop_nonnum,\n",
    "    DFTransforms.normalize,\n",
    "    DFTransforms.dropna,\n",
    "])\n",
    "def save_labels(df, fn):\n",
    "    with open(fn,'w') as _file:\n",
    "        _file.write('\\n'.join(list(df['dataset_name'])))\n",
    "\n",
    "def save_tsv(df, fn):\n",
    "    return df.to_csv(\n",
    "        fn,\n",
    "        sep='\\t',\n",
    "        index=False,\n",
    "        header=False \n",
    "    )\n"
   ]
  },
  {
   "cell_type": "code",
   "execution_count": 4,
   "metadata": {},
   "outputs": [
    {
     "name": "stderr",
     "output_type": "stream",
     "text": [
      "/tmp/ipykernel_323363/312311290.py:7: FutureWarning: Series.__getitem__ treating keys as positions is deprecated. In a future version, integer keys will always be treated as labels (consistent with DataFrame behavior). To access a value by position, use `ser.iloc[pos]`\n",
      "  df[object_columns] = df[object_columns].apply(\n"
     ]
    }
   ],
   "source": [
    "modality = 'image'\n",
    "cached_df = pd.read_csv(f'./{modality}_features_cache_0.csv')\n",
    "save_labels(cached_df, f'./{modality}_labels.txt')\n",
    "save_tsv(df_transforms(cached_df), f'cached_{modality}_metafeatures.tsv')\n",
    "# cached_df = DFTransforms.list_cols2item(cached_df)"
   ]
  },
  {
   "cell_type": "code",
   "execution_count": 29,
   "metadata": {},
   "outputs": [],
   "source": [
    "class MFDF(pd.DataFrame):\n",
    "    @property\n",
    "    def name(self):\n",
    "        return f'{self=}'.partition('=')[0]\n",
    "\n",
    "    def save_labels(self, *args, **kwargs):\n",
    "        save_labels(self, *args, **kwargs)\n",
    "        \n",
    "    def save_tsv(self, *args, **kwargs):\n",
    "        save_tsv(self, *args, **kwargs)\n",
    "    "
   ]
  },
  {
   "cell_type": "code",
   "execution_count": null,
   "metadata": {},
   "outputs": [
    {
     "name": "stdout",
     "output_type": "stream",
     "text": [
      "     Unnamed: 0 dataset_name  embd_mean_0  embd_mean_1  embd_mean_2  \\\n",
      "0           0.0         CoLA    -1.504042    -0.279320    -0.730904   \n",
      "1           1.0         CoLA    -1.483405    -0.345227    -0.737107   \n",
      "2           2.0         CoLA    -1.457978    -0.311558    -0.783566   \n",
      "3           3.0         CoLA    -1.485049    -0.297812    -0.815689   \n",
      "4           4.0         CoLA    -1.479797    -0.272896    -0.860687   \n",
      "..          ...          ...          ...          ...          ...   \n",
      "381        15.0      SEMEION          NaN          NaN          NaN   \n",
      "382        16.0        STL10          NaN          NaN          NaN   \n",
      "383        17.0        STL10          NaN          NaN          NaN   \n",
      "384        18.0        STL10          NaN          NaN          NaN   \n",
      "385        19.0        STL10          NaN          NaN          NaN   \n",
      "\n",
      "     embd_mean_3  embd_mean_4  embd_mean_5  embd_mean_6  embd_mean_7  ...  \\\n",
      "0       0.314802    -0.043355     0.500565    -0.265383     1.232647  ...   \n",
      "1       0.262260    -0.048478     0.498811    -0.307695     1.321921  ...   \n",
      "2       0.286273    -0.008803     0.335403    -0.235224     1.253545  ...   \n",
      "3       0.286846     0.001247     0.413926    -0.276753     1.216468  ...   \n",
      "4       0.408790     0.016709     0.456088    -0.264122     1.222783  ...   \n",
      "..           ...          ...          ...          ...          ...  ...   \n",
      "381          NaN          NaN          NaN          NaN          NaN  ...   \n",
      "382          NaN          NaN          NaN          NaN          NaN  ...   \n",
      "383          NaN          NaN          NaN          NaN          NaN  ...   \n",
      "384          NaN          NaN          NaN          NaN          NaN  ...   \n",
      "385          NaN          NaN          NaN          NaN          NaN  ...   \n",
      "\n",
      "           embd_0_std_90       embd_0_std_91       embd_0_std_92  \\\n",
      "0                    NaN                 NaN                 NaN   \n",
      "1                    NaN                 NaN                 NaN   \n",
      "2                    NaN                 NaN                 NaN   \n",
      "3                    NaN                 NaN                 NaN   \n",
      "4                    NaN                 NaN                 NaN   \n",
      "..                   ...                 ...                 ...   \n",
      "381  0.37356817722320557  0.7013393640518188  0.7313295006752014   \n",
      "382   0.5999754071235657  0.8372272849082947  0.9703421592712402   \n",
      "383   0.6997568011283875   1.254328727722168  1.2210310697555542   \n",
      "384   0.7571000456809998  1.3097469806671143  1.1038655042648315   \n",
      "385   0.7763180732727051  1.0707449913024902  1.1657720804214478   \n",
      "\n",
      "           embd_0_std_93        embd_0_std_94       embd_0_std_95  \\\n",
      "0                    NaN                  NaN                 NaN   \n",
      "1                    NaN                  NaN                 NaN   \n",
      "2                    NaN                  NaN                 NaN   \n",
      "3                    NaN                  NaN                 NaN   \n",
      "4                    NaN                  NaN                 NaN   \n",
      "..                   ...                  ...                 ...   \n",
      "381  0.49766266345977783  0.48998337984085083  0.5663666725158691   \n",
      "382   0.7980297803878784   0.8041078448295593  0.7979256510734558   \n",
      "383   1.0024012327194214   1.0894098281860352  1.0643678903579712   \n",
      "384    0.962700605392456    1.114566445350647  1.0573360919952393   \n",
      "385   0.8938046097755432    1.044669270515442  1.0963586568832397   \n",
      "\n",
      "          embd_0_std_96       embd_0_std_97       embd_0_std_98  \\\n",
      "0                   NaN                 NaN                 NaN   \n",
      "1                   NaN                 NaN                 NaN   \n",
      "2                   NaN                 NaN                 NaN   \n",
      "3                   NaN                 NaN                 NaN   \n",
      "4                   NaN                 NaN                 NaN   \n",
      "..                  ...                 ...                 ...   \n",
      "381    0.42830890417099  0.4569152593612671  0.5490981936454773   \n",
      "382  0.7861162424087524   1.076662540435791  1.3441451787948608   \n",
      "383   0.837501049041748  1.0392727851867676   1.323209524154663   \n",
      "384  0.7810595631599426  0.9908342957496643  1.1429650783538818   \n",
      "385  0.8392199873924255    1.10706627368927   1.281015396118164   \n",
      "\n",
      "           embd_0_std_99  \n",
      "0                    NaN  \n",
      "1                    NaN  \n",
      "2                    NaN  \n",
      "3                    NaN  \n",
      "4                    NaN  \n",
      "..                   ...  \n",
      "381  0.47691410779953003  \n",
      "382   1.0465022325515747  \n",
      "383   1.0023881196975708  \n",
      "384   0.8991197347640991  \n",
      "385   1.0468801259994507  \n",
      "\n",
      "[386 rows x 611 columns]\n"
     ]
    }
   ],
   "source": [
    "text_df = MFDF(pd.read_csv('./text_features_cache.csv'))\n",
    "image_df = MFDF(pd.read_csv('./image_features_cache.csv'))\n",
    "concat_df = MFDF(pd.concat([text_df, image_df], ignore_index=True))\n",
    "# text_df.save_labels('./labels_test.txt')\n",
    "print(concat_df)\n",
    "print(concat_df.name)\n",
    "concat_df.save_labels()"
   ]
  },
  {
   "cell_type": "code",
   "execution_count": 28,
   "metadata": {},
   "outputs": [
    {
     "data": {
      "text/plain": [
       "'concat_df'"
      ]
     },
     "execution_count": 28,
     "metadata": {},
     "output_type": "execute_result"
    }
   ],
   "source": [
    "dir(concat_df)\n",
    "f'{concat_df=}'.partition('=')[0]\n",
    "# print(str(concat_df))"
   ]
  },
  {
   "cell_type": "code",
   "execution_count": 18,
   "metadata": {},
   "outputs": [
    {
     "name": "stdout",
     "output_type": "stream",
     "text": [
      "     Unnamed: 0  embd_mean_0  embd_mean_1  embd_mean_2  embd_mean_3  \\\n",
      "0      0.000000     0.029311     0.334684     0.186214     0.748641   \n",
      "1      0.007194     0.041228     0.128451     0.180140     0.661165   \n",
      "2      0.014388     0.055911     0.233806     0.134646     0.701144   \n",
      "3      0.021583     0.040279     0.276820     0.103191     0.702098   \n",
      "4      0.028777     0.043311     0.354784     0.059127     0.905121   \n",
      "..          ...          ...          ...          ...          ...   \n",
      "135    0.971223     0.886459     0.824588     0.909996     0.061311   \n",
      "136    0.978417     0.887985     0.883850     0.912975     0.080742   \n",
      "137    0.985612     0.889432     0.874561     0.930662     0.051666   \n",
      "138    0.992806     0.868581     0.836503     0.925419     0.043878   \n",
      "139    1.000000     0.890073     1.000000     0.920951     0.079105   \n",
      "\n",
      "     embd_mean_4  embd_mean_5  embd_mean_6  embd_mean_7  embd_mean_8  ...  \\\n",
      "0       0.383497     0.806467     0.106599     0.928309     0.339325  ...   \n",
      "1       0.367865     0.803819     0.048943     0.991635     0.345692  ...   \n",
      "2       0.488935     0.557247     0.147694     0.943133     0.243836  ...   \n",
      "3       0.519601     0.675734     0.091105     0.916833     0.084769  ...   \n",
      "4       0.566785     0.739354     0.108316     0.921312     0.149142  ...   \n",
      "..           ...          ...          ...          ...          ...  ...   \n",
      "135     0.062348     0.139629     0.945689     0.008506     0.929030  ...   \n",
      "136     0.088983     0.155355     0.957608     0.013557     0.905523  ...   \n",
      "137     0.000000     0.175752     0.968869     0.010158     0.864766  ...   \n",
      "138     0.015216     0.145805     0.972941     0.015960     0.860043  ...   \n",
      "139     0.168810     0.113174     0.930324     0.020140     0.925808  ...   \n",
      "\n",
      "     nr_cat_1  nr_num_1  nr_outliers_1  range.mean_1  sd.mean_1  \\\n",
      "0         0.0       1.0           0.00           0.0   0.240126   \n",
      "1         0.0       1.0           0.00           0.0   0.232929   \n",
      "2         0.0       1.0           0.00           0.0   0.244163   \n",
      "3         0.0       1.0           0.00           0.0   0.232929   \n",
      "4         0.0       1.0           0.00           0.0   0.230211   \n",
      "..        ...       ...            ...           ...        ...   \n",
      "135       1.0       0.0           0.54           0.0   0.019426   \n",
      "136       1.0       0.0           0.52           0.0   0.021366   \n",
      "137       1.0       0.0           0.50           0.0   0.023820   \n",
      "138       1.0       0.0           0.56           0.0   0.018665   \n",
      "139       1.0       0.0           0.59           0.0   0.016545   \n",
      "\n",
      "     skewness.mean_1  sparsity.mean_1  t_mean.mean_1  var.mean_1  dataset_size  \n",
      "0           0.054583         1.000000       0.272946    0.078322      0.044335  \n",
      "1           0.041458         1.000000       0.290747    0.074488      0.044335  \n",
      "2           0.062864         1.000000       0.261079    0.080513      0.044335  \n",
      "3           0.041458         1.000000       0.290747    0.074488      0.044335  \n",
      "4           0.036856         1.000000       0.296681    0.073064      0.044335  \n",
      "..               ...              ...            ...         ...           ...  \n",
      "135         0.829646         0.017385       0.000000    0.002981      0.000000  \n",
      "136         0.810003         0.018838       0.000000    0.003236      0.000000  \n",
      "137         0.780425         0.020408       0.000000    0.003516      0.000000  \n",
      "138         0.826936         0.016035       0.000000    0.002759      0.000000  \n",
      "139         0.847404         0.014182       0.000000    0.002443      0.000000  \n",
      "\n",
      "[140 rows x 231 columns]\n"
     ]
    }
   ],
   "source": [
    "\n",
    "text_df = MFDF(df_transforms(text_df))\n",
    "text_df.save_tsv('./test_text.tsv')\n",
    "print(text_df)"
   ]
  },
  {
   "cell_type": "code",
   "execution_count": 9,
   "metadata": {},
   "outputs": [
    {
     "name": "stdout",
     "output_type": "stream",
     "text": [
      "     Unnamed: 0  dataset_name            embd_mean_0           embd_mean_1  \\\n",
      "0           0.0          CoLA    -1.5040420293807983  -0.27932000160217285   \n",
      "1           1.0          CoLA    -1.4834048748016357   -0.3452269434928894   \n",
      "2           2.0          CoLA    -1.4579777717590332   -0.3115580379962921   \n",
      "3           3.0          CoLA     -1.485048532485962   -0.2978118360042572   \n",
      "4           4.0          CoLA    -1.4797974824905396    -0.272896409034729   \n",
      "..          ...           ...                    ...                   ...   \n",
      "163         0.0          SST2    0.13386693596839905  -0.15580838918685913   \n",
      "164         NaN  dataset_name            embd_mean_0           embd_mean_1   \n",
      "165         0.0          STSB  -0.029670491814613342  -0.17812450230121613   \n",
      "166         NaN  dataset_name            embd_mean_0           embd_mean_1   \n",
      "167         0.0          WNLI  -0.045235227793455124  -0.11147458106279373   \n",
      "\n",
      "              embd_mean_2           embd_mean_3            embd_mean_4  \\\n",
      "0      -0.730903685092926   0.31480151414871216   -0.04335540905594826   \n",
      "1     -0.7371066808700562   0.26225996017456055  -0.048477984964847565   \n",
      "2     -0.7835662961006165    0.2862730026245117    -0.0088027473539114   \n",
      "3     -0.8156890273094177   0.28684598207473755  0.0012467264896258712   \n",
      "4     -0.8606874942779541   0.40879005193710327   0.016709094867110252   \n",
      "..                    ...                   ...                    ...   \n",
      "163   0.05133531987667084  -0.06988812237977982   -0.05779169499874115   \n",
      "164           embd_mean_2           embd_mean_3            embd_mean_4   \n",
      "165  -0.01802835613489151     0.127786785364151    0.06353896856307983   \n",
      "166           embd_mean_2           embd_mean_3            embd_mean_4   \n",
      "167   0.02536306157708168  -0.07531427592039108    -0.1383543461561203   \n",
      "\n",
      "             embd_mean_5           embd_mean_6            embd_mean_7  ...  \\\n",
      "0     0.5005653500556946   -0.2653827965259552       1.23264741897583  ...   \n",
      "1     0.4988105297088623  -0.30769479274749756     1.3219207525253296  ...   \n",
      "2    0.33540284633636475   -0.2352237105369568     1.2535452842712402  ...   \n",
      "3      0.413926362991333   -0.2767529785633087      1.216468334197998  ...   \n",
      "4     0.4560880661010742   -0.2641223967075348     1.2227827310562134  ...   \n",
      "..                   ...                   ...                    ...  ...   \n",
      "163   0.2843552529811859    0.2532731592655182  -0.016971305012702942  ...   \n",
      "164          embd_mean_5           embd_mean_6            embd_mean_7  ...   \n",
      "165  0.10648628324270248    0.3392624258995056    0.19211013615131378  ...   \n",
      "166          embd_mean_5           embd_mean_6            embd_mean_7  ...   \n",
      "167  0.06884501874446869    0.3671673834323883   -0.06765154749155045  ...   \n",
      "\n",
      "           skewness.mean_3 skewness.sd_3 sparsity.mean_3 sparsity.sd_3  \\\n",
      "0                      NaN           NaN             NaN           NaN   \n",
      "1                      NaN           NaN             NaN           NaN   \n",
      "2                      NaN           NaN             NaN           NaN   \n",
      "3                      NaN           NaN             NaN           NaN   \n",
      "4                      NaN           NaN             NaN           NaN   \n",
      "..                     ...           ...             ...           ...   \n",
      "163                    NaN           NaN             NaN           NaN   \n",
      "164               var.sd_3  dataset_size    elem_0_shape   elem_0_dims   \n",
      "165  0.0013924777006424007          1504             100             1   \n",
      "166                    NaN           NaN             NaN           NaN   \n",
      "167                    NaN           NaN             NaN           NaN   \n",
      "\n",
      "    t_mean.mean_3  t_mean.sd_3    var.mean_3     var.sd_3  elem_3_shape  \\\n",
      "0             NaN          NaN           NaN          NaN           NaN   \n",
      "1             NaN          NaN           NaN          NaN           NaN   \n",
      "2             NaN          NaN           NaN          NaN           NaN   \n",
      "3             NaN          NaN           NaN          NaN           NaN   \n",
      "4             NaN          NaN           NaN          NaN           NaN   \n",
      "..            ...          ...           ...          ...           ...   \n",
      "163           NaN          NaN           NaN          NaN           NaN   \n",
      "164  elem_1_shape  elem_1_dims  elem_2_shape  elem_2_dims  elem_3_shape   \n",
      "165           100            1           100            1           100   \n",
      "166           NaN          NaN           NaN          NaN           NaN   \n",
      "167           NaN          NaN           NaN          NaN           NaN   \n",
      "\n",
      "     elem_3_dims  \n",
      "0            NaN  \n",
      "1            NaN  \n",
      "2            NaN  \n",
      "3            NaN  \n",
      "4            NaN  \n",
      "..           ...  \n",
      "163          NaN  \n",
      "164  elem_3_dims  \n",
      "165            1  \n",
      "166          NaN  \n",
      "167          NaN  \n",
      "\n",
      "[168 rows x 411 columns]\n"
     ]
    }
   ],
   "source": [
    "print(text_df)"
   ]
  },
  {
   "cell_type": "code",
   "execution_count": 3,
   "metadata": {},
   "outputs": [],
   "source": [
    "df = pd.DataFrame(features)\n",
    "# print(len(TEXT_LOADERS))\n",
    "df = df.fillna(0)"
   ]
  },
  {
   "cell_type": "code",
   "execution_count": 4,
   "metadata": {},
   "outputs": [],
   "source": [
    "# print(df.dtypes)\n",
    "import numpy as np\n",
    "object_columns = df.select_dtypes(include=['object']).columns\n",
    "df[object_columns] = df[object_columns].apply(\n",
    "    lambda x : x[0]\n",
    ")\n",
    "df.to_csv('text_metafeatures.tsv', sep='\\t', index=False, header=False)"
   ]
  },
  {
   "cell_type": "code",
   "execution_count": 5,
   "metadata": {},
   "outputs": [],
   "source": [
    "def min_max_normalize(column):\n",
    "    return (column - column.min()) / (column.max() - column.min())\n",
    "\n",
    "# Normalize DataFrame by columns\n",
    "normalized_df = df.apply(min_max_normalize)\n",
    "normalized_df.to_csv(\n",
    "    'text_metafeatures_normalized.tsv', \n",
    "    sep='\\t', \n",
    "    index=False,\n",
    "    header=False\n",
    "    )\n",
    "with open(\"data_labels.txt\",'w') as _file:\n",
    "    _file.write('\\n'.join(labels))\n",
    "    # _file.write('\\n'.join(list(TEXT_LOADERS.keys())))"
   ]
  },
  {
   "cell_type": "code",
   "execution_count": 13,
   "metadata": {},
   "outputs": [
    {
     "name": "stdout",
     "output_type": "stream",
     "text": [
      "['embd_mean_0', 'embd_mean_1', 'embd_mean_10', 'embd_mean_11', 'embd_mean_12', 'embd_mean_13', 'embd_mean_14', 'embd_mean_15', 'embd_mean_16', 'embd_mean_17', 'embd_mean_18', 'embd_mean_19', 'embd_mean_2', 'embd_mean_20', 'embd_mean_21', 'embd_mean_22', 'embd_mean_23', 'embd_mean_24', 'embd_mean_25', 'embd_mean_26', 'embd_mean_27', 'embd_mean_28', 'embd_mean_29', 'embd_mean_3', 'embd_mean_30', 'embd_mean_31', 'embd_mean_32', 'embd_mean_33', 'embd_mean_34', 'embd_mean_35', 'embd_mean_36', 'embd_mean_37', 'embd_mean_38', 'embd_mean_39', 'embd_mean_4', 'embd_mean_40', 'embd_mean_41', 'embd_mean_42', 'embd_mean_43', 'embd_mean_44', 'embd_mean_45', 'embd_mean_46', 'embd_mean_47', 'embd_mean_48', 'embd_mean_49', 'embd_mean_5', 'embd_mean_50', 'embd_mean_51', 'embd_mean_52', 'embd_mean_53', 'embd_mean_54', 'embd_mean_55', 'embd_mean_56', 'embd_mean_57', 'embd_mean_58', 'embd_mean_59', 'embd_mean_6', 'embd_mean_60', 'embd_mean_61', 'embd_mean_62', 'embd_mean_63', 'embd_mean_64', 'embd_mean_65', 'embd_mean_66', 'embd_mean_67', 'embd_mean_68', 'embd_mean_69', 'embd_mean_7', 'embd_mean_70', 'embd_mean_71', 'embd_mean_72', 'embd_mean_73', 'embd_mean_74', 'embd_mean_75', 'embd_mean_76', 'embd_mean_77', 'embd_mean_78', 'embd_mean_79', 'embd_mean_8', 'embd_mean_80', 'embd_mean_81', 'embd_mean_82', 'embd_mean_83', 'embd_mean_84', 'embd_mean_85', 'embd_mean_86', 'embd_mean_87', 'embd_mean_88', 'embd_mean_89', 'embd_mean_9', 'embd_mean_90', 'embd_mean_91', 'embd_mean_92', 'embd_mean_93', 'embd_mean_94', 'embd_mean_95', 'embd_std_0', 'embd_std_1', 'embd_std_10', 'embd_std_11', 'embd_std_12', 'embd_std_13', 'embd_std_14', 'embd_std_15', 'embd_std_16', 'embd_std_17', 'embd_std_18', 'embd_std_19', 'embd_std_2', 'embd_std_20', 'embd_std_21', 'embd_std_22', 'embd_std_23', 'embd_std_24', 'embd_std_25', 'embd_std_26', 'embd_std_27', 'embd_std_28', 'embd_std_29', 'embd_std_3', 'embd_std_30', 'embd_std_31', 'embd_std_32', 'embd_std_33', 'embd_std_34', 'embd_std_35', 'embd_std_36', 'embd_std_37', 'embd_std_38', 'embd_std_39', 'embd_std_4', 'embd_std_40', 'embd_std_41', 'embd_std_42', 'embd_std_43', 'embd_std_44', 'embd_std_45', 'embd_std_46', 'embd_std_47', 'embd_std_48', 'embd_std_49', 'embd_std_5', 'embd_std_50', 'embd_std_51', 'embd_std_52', 'embd_std_53', 'embd_std_54', 'embd_std_55', 'embd_std_56', 'embd_std_57', 'embd_std_58', 'embd_std_59', 'embd_std_6', 'embd_std_60', 'embd_std_61', 'embd_std_62', 'embd_std_63', 'embd_std_64', 'embd_std_65', 'embd_std_66', 'embd_std_67', 'embd_std_68', 'embd_std_69', 'embd_std_7', 'embd_std_70', 'embd_std_71', 'embd_std_72', 'embd_std_73', 'embd_std_74', 'embd_std_75', 'embd_std_76', 'embd_std_77', 'embd_std_78', 'embd_std_79', 'embd_std_8', 'embd_std_80', 'embd_std_81', 'embd_std_82', 'embd_std_83', 'embd_std_84', 'embd_std_85', 'embd_std_86', 'embd_std_87', 'embd_std_88', 'embd_std_89', 'embd_std_9', 'embd_std_90', 'embd_std_91', 'embd_std_92', 'embd_std_93', 'embd_std_94', 'embd_std_95']\n"
     ]
    }
   ],
   "source": [
    "embd_cols = sorted(col for col in normalized_df.columns if 'embd' in col)\n",
    "print(embd_cols)\n",
    "normalized_df[embd_cols].to_csv(\n",
    "    'text_metafeatures_normalized_embd.tsv',\n",
    "    sep='\\t',\n",
    "    index=False,\n",
    "    header=False\n",
    ")\n",
    "normalized_df.drop(columns=embd_cols).to_csv(\n",
    "    'text_metafeatures_normalized_mfe.tsv',\n",
    "    sep='\\t',\n",
    "    index=False,\n",
    "    header=False\n",
    ")"
   ]
  },
  {
   "cell_type": "code",
   "execution_count": 51,
   "metadata": {},
   "outputs": [],
   "source": [
    "!code ./text_metafeatures.tsv"
   ]
  },
  {
   "cell_type": "code",
   "execution_count": 52,
   "metadata": {},
   "outputs": [
    {
     "name": "stdout",
     "output_type": "stream",
     "text": [
      "['get_cola_dataloader', 'get_mnli_dataloader', 'get_qnli_dataloader', 'get_rte_dataloader', 'get_sst2_dataloader', 'get_stsb_dataloader', 'get_wnli_dataloader']\n"
     ]
    }
   ],
   "source": [
    "print(list(TEXT_LOADERS.keys()), sep='\\n')"
   ]
  },
  {
   "cell_type": "code",
   "execution_count": 5,
   "metadata": {},
   "outputs": [
    {
     "ename": "TypeError",
     "evalue": "'model' from type '<class 'torchvision.models.resnet.ResNet'>' not supported. Currently only supporting classes: [<class 'sklearn.tree._classes.DecisionTreeClassifier'>].",
     "output_type": "error",
     "traceback": [
      "\u001b[0;31m---------------------------------------------------------------------------\u001b[0m",
      "\u001b[0;31mTypeError\u001b[0m                                 Traceback (most recent call last)",
      "Cell \u001b[0;32mIn[5], line 5\u001b[0m\n\u001b[1;32m      3\u001b[0m rn18 \u001b[39m=\u001b[39m torchvision\u001b[39m.\u001b[39mmodels\u001b[39m.\u001b[39mresnet18()\n\u001b[1;32m      4\u001b[0m extractor \u001b[39m=\u001b[39m MFE()\n\u001b[0;32m----> 5\u001b[0m rn18_features \u001b[39m=\u001b[39m extractor\u001b[39m.\u001b[39;49mextract_from_model(\n\u001b[1;32m      6\u001b[0m     rn18\n\u001b[1;32m      7\u001b[0m )\n",
      "File \u001b[0;32m~/.conda/envs/modlee3.10/lib/python3.10/site-packages/pymfe/mfe.py:1744\u001b[0m, in \u001b[0;36mMFE.extract_from_model\u001b[0;34m(self, model, arguments_fit, arguments_extract, verbose)\u001b[0m\n\u001b[1;32m   1741\u001b[0m model_argument \u001b[39m=\u001b[39m _internal\u001b[39m.\u001b[39mtype_translator\u001b[39m.\u001b[39mget(\u001b[39mtype\u001b[39m(model), \u001b[39mNone\u001b[39;00m)\n\u001b[1;32m   1743\u001b[0m \u001b[39mif\u001b[39;00m model_argument \u001b[39mis\u001b[39;00m \u001b[39mNone\u001b[39;00m:\n\u001b[0;32m-> 1744\u001b[0m     \u001b[39mraise\u001b[39;00m \u001b[39mTypeError\u001b[39;00m(\n\u001b[1;32m   1745\u001b[0m         \u001b[39m\"\u001b[39m\u001b[39m'\u001b[39m\u001b[39mmodel\u001b[39m\u001b[39m'\u001b[39m\u001b[39m from type \u001b[39m\u001b[39m'\u001b[39m\u001b[39m{}\u001b[39;00m\u001b[39m'\u001b[39m\u001b[39m not supported. Currently \u001b[39m\u001b[39m\"\u001b[39m\n\u001b[1;32m   1746\u001b[0m         \u001b[39m\"\u001b[39m\u001b[39monly supporting classes: \u001b[39m\u001b[39m{}\u001b[39;00m\u001b[39m.\u001b[39m\u001b[39m\"\u001b[39m\u001b[39m.\u001b[39mformat(\n\u001b[1;32m   1747\u001b[0m             \u001b[39mtype\u001b[39m(model), \u001b[39mlist\u001b[39m(_internal\u001b[39m.\u001b[39mtype_translator\u001b[39m.\u001b[39mkeys())\n\u001b[1;32m   1748\u001b[0m         )\n\u001b[1;32m   1749\u001b[0m     )\n\u001b[1;32m   1751\u001b[0m \u001b[39mtry\u001b[39;00m:\n\u001b[1;32m   1752\u001b[0m     sklearn\u001b[39m.\u001b[39mutils\u001b[39m.\u001b[39mvalidation\u001b[39m.\u001b[39mcheck_is_fitted(model)\n",
      "\u001b[0;31mTypeError\u001b[0m: 'model' from type '<class 'torchvision.models.resnet.ResNet'>' not supported. Currently only supporting classes: [<class 'sklearn.tree._classes.DecisionTreeClassifier'>]."
     ]
    }
   ],
   "source": [
    "import torchvision\n",
    "from pymfe.mfe import MFE\n",
    "rn18 = torchvision.models.resnet18()\n",
    "extractor = MFE()\n",
    "rn18_features = extractor.extract_from_model(\n",
    "    rn18\n",
    ")"
   ]
  },
  {
   "cell_type": "code",
   "execution_count": 3,
   "metadata": {},
   "outputs": [
    {
     "ename": "ImportError",
     "evalue": "attempted relative import with no known parent package",
     "output_type": "error",
     "traceback": [
      "\u001b[0;31m---------------------------------------------------------------------------\u001b[0m",
      "\u001b[0;31mImportError\u001b[0m                               Traceback (most recent call last)",
      "Cell \u001b[0;32mIn[3], line 1\u001b[0m\n\u001b[0;32m----> 1\u001b[0m \u001b[39mimport\u001b[39;00m \u001b[39mtest_model_metafeatures\u001b[39;00m\n",
      "File \u001b[0;32m~/projects/modlee/tests/test_model_metafeatures.py:2\u001b[0m\n\u001b[1;32m      1\u001b[0m \u001b[39mimport\u001b[39;00m \u001b[39mpytest\u001b[39;00m\n\u001b[0;32m----> 2\u001b[0m \u001b[39mfrom\u001b[39;00m \u001b[39m.\u001b[39;00m \u001b[39mimport\u001b[39;00m conftest\n\u001b[1;32m      4\u001b[0m \u001b[39mimport\u001b[39;00m \u001b[39mtorch\u001b[39;00m\n\u001b[1;32m      5\u001b[0m \u001b[39mfrom\u001b[39;00m \u001b[39mtorch\u001b[39;00m \u001b[39mimport\u001b[39;00m nn\n",
      "\u001b[0;31mImportError\u001b[0m: attempted relative import with no known parent package"
     ]
    }
   ],
   "source": [
    "import test_model_metafeatures"
   ]
  }
 ],
 "metadata": {
  "kernelspec": {
   "display_name": "modlee3.10",
   "language": "python",
   "name": "python3"
  },
  "language_info": {
   "codemirror_mode": {
    "name": "ipython",
    "version": 3
   },
   "file_extension": ".py",
   "mimetype": "text/x-python",
   "name": "python",
   "nbconvert_exporter": "python",
   "pygments_lexer": "ipython3",
   "version": "3.10.14"
  },
  "orig_nbformat": 4
 },
 "nbformat": 4,
 "nbformat_minor": 2
}
