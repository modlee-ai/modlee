{
 "cells": [
  {
   "cell_type": "code",
   "execution_count": 3,
   "metadata": {},
   "outputs": [
    {
     "name": "stderr",
     "output_type": "stream",
     "text": [
      "/home/ubuntu/.conda/envs/modlee3.10/lib/python3.10/site-packages/tqdm/auto.py:21: TqdmWarning: IProgress not found. Please update jupyter and ipywidgets. See https://ipywidgets.readthedocs.io/en/stable/user_install.html\n",
      "  from .autonotebook import tqdm as notebook_tqdm\n"
     ]
    },
    {
     "name": "stdout",
     "output_type": "stream",
     "text": [
      "Downloading https://s3.amazonaws.com/fast-ai-imageclas/imagenette2-160.tgz to .data/imagenette2-160.tgz\n"
     ]
    },
    {
     "name": "stderr",
     "output_type": "stream",
     "text": [
      "100%|██████████| 99003388/99003388 [00:01<00:00, 54709695.13it/s]\n"
     ]
    },
    {
     "name": "stdout",
     "output_type": "stream",
     "text": [
      "Extracting .data/imagenette2-160.tgz to .data\n"
     ]
    }
   ],
   "source": [
    "import pytest\n",
    "import re\n",
    "\n",
    "import torch\n",
    "from torch.utils.data import DataLoader\n",
    "import torchvision\n",
    "\n",
    "import modlee\n",
    "from modlee import data_metafeatures as dmf\n",
    "from modlee.utils import text_loaders\n",
    "\n",
    "import spacy\n",
    "\n",
    "IMAGE_DATALOADER = modlee.utils.get_imagenette_dataloader()\n",
    "# TEXT_DATALOADER = modlee.utils.get_wnli_dataloader() \n",
    "\n",
    "\n",
    "TEXT_LOADERS = {loader_fn:getattr(text_loaders, loader_fn) for loader_fn in dir(text_loaders) if re.match('get_(.*)_dataloader', loader_fn)}\n"
   ]
  },
  {
   "cell_type": "code",
   "execution_count": 47,
   "metadata": {},
   "outputs": [
    {
     "name": "stdout",
     "output_type": "stream",
     "text": [
      "get_cola_dataloader\n",
      "get_mnli_dataloader\n",
      "get_qnli_dataloader\n",
      "get_rte_dataloader\n",
      "get_sst2_dataloader\n",
      "get_stsb_dataloader\n",
      "get_wnli_dataloader\n"
     ]
    }
   ],
   "source": [
    "import pandas as pd\n",
    "df = None\n",
    "features = []\n",
    "labels = []\n",
    "for text_loader_name,text_loader_fn in TEXT_LOADERS.items():\n",
    "    print(text_loader_name)\n",
    "    for _ in range(10):\n",
    "        text_mf = dmf.TextDataMetafeatures(text_loader_fn(), testing=True)\n",
    "        features.append({\n",
    "            **text_mf.embedding,\n",
    "            **text_mf.mfe,\n",
    "            **text_mf.properties\n",
    "        })\n",
    "        labels.append(text_loader_name)\n",
    "        # features.append(text_mf.)"
   ]
  },
  {
   "cell_type": "code",
   "execution_count": 48,
   "metadata": {},
   "outputs": [],
   "source": [
    "df = pd.DataFrame(features)\n",
    "# print(len(TEXT_LOADERS))\n",
    "df = df.fillna(0)"
   ]
  },
  {
   "cell_type": "code",
   "execution_count": 49,
   "metadata": {},
   "outputs": [],
   "source": [
    "# print(df.dtypes)\n",
    "import numpy as np\n",
    "object_columns = df.select_dtypes(include=['object']).columns\n",
    "df[object_columns] = df[object_columns].apply(\n",
    "    lambda x : x[0]\n",
    ")\n",
    "df.to_csv('text_metafeatures.tsv', sep='\\t', index=False, header=False)"
   ]
  },
  {
   "cell_type": "code",
   "execution_count": 53,
   "metadata": {},
   "outputs": [],
   "source": [
    "def min_max_normalize(column):\n",
    "    return (column - column.min()) / (column.max() - column.min())\n",
    "\n",
    "# Normalize DataFrame by columns\n",
    "normalized_df = df.apply(min_max_normalize)\n",
    "normalized_df.to_csv('text_metafeatures_normalized.tsv', sep='\\t', index=False, header=False)\n",
    "with open(\"data_labels.txt\",'w') as _file:\n",
    "    _file.write('\\n'.join(labels))\n",
    "    # _file.write('\\n'.join(list(TEXT_LOADERS.keys())))"
   ]
  },
  {
   "cell_type": "code",
   "execution_count": 51,
   "metadata": {},
   "outputs": [],
   "source": [
    "!code ./text_metafeatures.tsv"
   ]
  },
  {
   "cell_type": "code",
   "execution_count": 52,
   "metadata": {},
   "outputs": [
    {
     "name": "stdout",
     "output_type": "stream",
     "text": [
      "['get_cola_dataloader', 'get_mnli_dataloader', 'get_qnli_dataloader', 'get_rte_dataloader', 'get_sst2_dataloader', 'get_stsb_dataloader', 'get_wnli_dataloader']\n"
     ]
    }
   ],
   "source": [
    "print(list(TEXT_LOADERS.keys()), sep='\\n')"
   ]
  }
 ],
 "metadata": {
  "kernelspec": {
   "display_name": "modlee3.10",
   "language": "python",
   "name": "python3"
  },
  "language_info": {
   "codemirror_mode": {
    "name": "ipython",
    "version": 3
   },
   "file_extension": ".py",
   "mimetype": "text/x-python",
   "name": "python",
   "nbconvert_exporter": "python",
   "pygments_lexer": "ipython3",
   "version": "3.10.14"
  },
  "orig_nbformat": 4
 },
 "nbformat": 4,
 "nbformat_minor": 2
}
